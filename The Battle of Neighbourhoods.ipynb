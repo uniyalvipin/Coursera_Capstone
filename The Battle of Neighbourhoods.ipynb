{
    "cells": [
        {
            "metadata": {
                "collapsed": true
            },
            "cell_type": "markdown",
            "source": "<center><h1>Battle of Neighbourhoods</h1>"
        },
        {
            "metadata": {},
            "cell_type": "markdown",
            "source": "<center> <h2>Opening a New Restaurant in Mumbai City"
        },
        {
            "metadata": {},
            "cell_type": "markdown",
            "source": "<b>Mumbai City District is a district of Maharashtra in Konkan Division. As a city district, it has no headquarters or subdivisions. It, along with the Mumbai Suburban District, makes up the metropolis of Mumbai. The city area is called the \"island city\" or South Mumbai or Old Mumbai. It extends from Colaba in the south to Mahim and Sion in the north. The city has an area of 157 km\u00b2 and a population of 3,085,411"
        },
        {
            "metadata": {},
            "cell_type": "markdown",
            "source": "<b>The location is one of the most important parameters to consider while discussing the idea as it can surely determine the success of the business. The Aim of this capstone project is to analyse and select the best locations in the Mumbai city, India to open a new restaurant. Using data science methodology and machine learning techniques like clustering, this project aims to provide solutions to answer the business question: In the Mumbai city of Maharashtra, India, if any individual person or group are looking to start their restaurant business and want to open a new restaurant, where would you recommend them to open it?"
        },
        {
            "metadata": {},
            "cell_type": "markdown",
            "source": "### Importing Libraries"
        },
        {
            "metadata": {},
            "cell_type": "code",
            "source": "!conda install -c conda-forge geopy --yes",
            "execution_count": 1,
            "outputs": [
                {
                    "output_type": "stream",
                    "text": "Solving environment: done\n\n## Package Plan ##\n\n  environment location: /opt/conda/envs/Python36\n\n  added / updated specs: \n    - geopy\n\n\nThe following packages will be downloaded:\n\n    package                    |            build\n    ---------------------------|-----------------\n    python_abi-3.6             |          1_cp36m           4 KB  conda-forge\n    openssl-1.1.1g             |       h516909a_0         2.1 MB  conda-forge\n    geographiclib-1.50         |             py_0          34 KB  conda-forge\n    geopy-1.22.0               |     pyh9f0ad1d_0          63 KB  conda-forge\n    ca-certificates-2020.4.5.1 |       hecc5488_0         146 KB  conda-forge\n    certifi-2020.4.5.1         |   py36h9f0ad1d_0         151 KB  conda-forge\n    ------------------------------------------------------------\n                                           Total:         2.5 MB\n\nThe following NEW packages will be INSTALLED:\n\n    geographiclib:   1.50-py_0           conda-forge\n    geopy:           1.22.0-pyh9f0ad1d_0 conda-forge\n    python_abi:      3.6-1_cp36m         conda-forge\n\nThe following packages will be UPDATED:\n\n    ca-certificates: 2020.1.1-0                      --> 2020.4.5.1-hecc5488_0     conda-forge\n    certifi:         2020.4.5.1-py36_0               --> 2020.4.5.1-py36h9f0ad1d_0 conda-forge\n    openssl:         1.1.1g-h7b6447c_0               --> 1.1.1g-h516909a_0         conda-forge\n\n\nDownloading and Extracting Packages\npython_abi-3.6       | 4 KB      | ##################################### | 100% \nopenssl-1.1.1g       | 2.1 MB    | ##################################### | 100% \ngeographiclib-1.50   | 34 KB     | ##################################### | 100% \ngeopy-1.22.0         | 63 KB     | ##################################### | 100% \nca-certificates-2020 | 146 KB    | ##################################### | 100% \ncertifi-2020.4.5.1   | 151 KB    | ##################################### | 100% \nPreparing transaction: done\nVerifying transaction: done\nExecuting transaction: done\n",
                    "name": "stdout"
                }
            ]
        },
        {
            "metadata": {},
            "cell_type": "code",
            "source": "!conda install -c conda-forge folium=0.5.0 --yes",
            "execution_count": null,
            "outputs": [
                {
                    "output_type": "stream",
                    "text": "Solving environment: | ",
                    "name": "stdout"
                }
            ]
        },
        {
            "metadata": {},
            "cell_type": "code",
            "source": "import numpy as np # library to handle data in a vectorized manner\n\nimport pandas as pd # library for data analsysis\npd.set_option('display.max_columns', None)\npd.set_option('display.max_rows', None)\n\nimport json # library to handle JSON files\n\nfrom geopy.geocoders import Nominatim # convert an address into latitude and longitude values\n\nimport requests # library to handle requests\nfrom pandas.io.json import json_normalize # tranform JSON file into a pandas dataframe\n\n# Matplotlib and associated plotting modules\nimport matplotlib.cm as cm\nimport matplotlib.colors as colors\n\n# import k-means from clustering stage\nfrom sklearn.cluster import KMeans\n\nimport folium # map rendering library\n\nprint('Libraries imported.')",
            "execution_count": null,
            "outputs": []
        },
        {
            "metadata": {},
            "cell_type": "code",
            "source": "",
            "execution_count": null,
            "outputs": []
        }
    ],
    "metadata": {
        "kernelspec": {
            "name": "python3",
            "display_name": "Python 3.6",
            "language": "python"
        },
        "language_info": {
            "name": "python",
            "version": "3.6.9",
            "mimetype": "text/x-python",
            "codemirror_mode": {
                "name": "ipython",
                "version": 3
            },
            "pygments_lexer": "ipython3",
            "nbconvert_exporter": "python",
            "file_extension": ".py"
        }
    },
    "nbformat": 4,
    "nbformat_minor": 1
}